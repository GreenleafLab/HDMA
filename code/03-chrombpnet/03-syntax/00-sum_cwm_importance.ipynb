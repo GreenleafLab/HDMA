{
 "cells": [
  {
   "cell_type": "raw",
   "metadata": {
    "vscode": {
     "languageId": "raw"
    }
   },
   "source": [
    "title: \"For each motif, get the summed importance across positions of the trimmed motif\"\n",
    "author: Selin Jessa\n",
    "date: \"{{ datetime.now().strftime('%Y-%m-%d') }}\"\n",
    "output:\n",
    "    html:\n",
    "        code_folding: show"
   ]
  },
  {
   "cell_type": "markdown",
   "metadata": {},
   "source": [
    "## Notes\n"
   ]
  },
  {
   "cell_type": "markdown",
   "metadata": {},
   "source": [
    "For every CWM, here we compute the position wide sum of CWM contrib scores for the\n",
    "30 bp and trimmed motifs, to be used as a motif importance metric in downstream analyses.\n",
    "\n",
    "_Run on durga_"
   ]
  },
  {
   "cell_type": "markdown",
   "metadata": {},
   "source": [
    "# Setup"
   ]
  },
  {
   "cell_type": "code",
   "execution_count": 15,
   "metadata": {},
   "outputs": [
    {
     "name": "stdout",
     "output_type": "stream",
     "text": [
      "The autoreload extension is already loaded. To reload it, use:\n",
      "  %reload_ext autoreload\n"
     ]
    }
   ],
   "source": [
    "%load_ext autoreload\n",
    "%autoreload 2\n",
    "\n",
    "# deal with matplotlib plots\n",
    "%matplotlib inline\n",
    "\n",
    "# display all outputs in a cell\n",
    "get_ipython().ast_node_interactivity = 'all'\n",
    "\n",
    "from IPython.display import display, HTML"
   ]
  },
  {
   "cell_type": "code",
   "execution_count": null,
   "metadata": {},
   "outputs": [],
   "source": [
    "# misc\n",
    "import sys\n",
    "import os\n",
    "import numpy as np\n",
    "import random\n",
    "from tqdm import tqdm\n",
    "import pandas as pd\n",
    "\n",
    "# io\n",
    "import h5py\n",
    "\n",
    "# plotting\n",
    "import matplotlib.pyplot as plt\n",
    "import matplotlib.patches as mpatches\n",
    "import seaborn; seaborn.set_style('white')\n",
    "import matplotlib.ticker as ticker\n",
    "import plotnine as pn\n",
    "import logomaker\n",
    "import tangermeme\n",
    "from tangermeme.plot import plot_logo\n",
    "from tangermeme.utils import reverse_complement\n",
    "import matplotlib.animation as animation\n",
    "\n",
    "sys.path.append(\"..\")\n",
    "from tangermeme_utils.utils import plot_motif\n",
    "from chrombpnet_utils.modisco import trim_cwm\n",
    "\n",
    "# editable text in PDFs\n",
    "# https://stackoverflow.com/a/54111532\n",
    "plt.rcParams['pdf.fonttype'] = 42\n",
    "plt.rcParams['ps.fonttype'] = 42"
   ]
  },
  {
   "cell_type": "markdown",
   "metadata": {},
   "source": [
    "# Variables"
   ]
  },
  {
   "cell_type": "code",
   "execution_count": 8,
   "metadata": {},
   "outputs": [
    {
     "data": {
      "text/plain": [
       "np.int64(557)"
      ]
     },
     "execution_count": 8,
     "metadata": {},
     "output_type": "execute_result"
    }
   ],
   "source": [
    "INPUTLEN = 2114\n",
    "OUTPUTLEN = 1000\n",
    "SHIFT_REL_INPUT = np.int64((2114 - 1000) / 2)\n",
    "SHIFT_REL_INPUT\n",
    "\n",
    "NARROWPEAK_SCHEMA = [\"chr\", \"start\", \"end\", \"1\", \"2\", \"3\", \"4\", \"5\", \"6\", \"summit\"]\n",
    "\n",
    "LOGO_ALPHABET = 'ACGT'\n",
    "\n",
    "# finemo colorscheme\n",
    "LOGO_COLORS = {\"A\": '#109648', \"C\": '#255C99', \"G\": '#F7B32B', \"T\": '#D62839'}\n",
    "\n",
    "# logomaker colorscheme\n",
    "LOGO_COLORS2= {\n",
    "        'G': [1, .65, 0],\n",
    "        'T': [1, 0, 0],\n",
    "        'C': [0, 0, 1],\n",
    "        'A': [0, .5, 0]\n",
    "    }\n",
    "\n",
    "CHAR_IGNORE = ['QWERYUIOPSDFHJKLZXVBNM']"
   ]
  },
  {
   "cell_type": "markdown",
   "metadata": {},
   "source": [
    "# Paths"
   ]
  },
  {
   "cell_type": "code",
   "execution_count": 9,
   "metadata": {},
   "outputs": [],
   "source": [
    "with open(\"../../DURGA_DIRS.txt\", 'r') as f:\n",
    "\tproj_in = f.readline().strip()\n",
    "\tproj_out = f.readline().strip()\n",
    "\n",
    "with open(\"../../AK_PROJ_DIR.txt\", 'r') as f:\n",
    "    kundaje_dir = f.readline().strip()"
   ]
  },
  {
   "cell_type": "markdown",
   "metadata": {},
   "source": [
    "# Get modisco objects"
   ]
  },
  {
   "cell_type": "code",
   "execution_count": 10,
   "metadata": {},
   "outputs": [
    {
     "data": {
      "text/html": [
       "<div>\n",
       "<style scoped>\n",
       "    .dataframe tbody tr th:only-of-type {\n",
       "        vertical-align: middle;\n",
       "    }\n",
       "\n",
       "    .dataframe tbody tr th {\n",
       "        vertical-align: top;\n",
       "    }\n",
       "\n",
       "    .dataframe thead th {\n",
       "        text-align: right;\n",
       "    }\n",
       "</style>\n",
       "<table border=\"1\" class=\"dataframe\">\n",
       "  <thead>\n",
       "    <tr style=\"text-align: right;\">\n",
       "      <th></th>\n",
       "      <th>cluster</th>\n",
       "      <th>folds</th>\n",
       "      <th>cluster_ID</th>\n",
       "    </tr>\n",
       "  </thead>\n",
       "  <tbody>\n",
       "    <tr>\n",
       "      <th>0</th>\n",
       "      <td>Adrenal_c0</td>\n",
       "      <td>fold_0,fold_1,fold_2,fold_3,fold_4</td>\n",
       "      <td>AG_0</td>\n",
       "    </tr>\n",
       "    <tr>\n",
       "      <th>1</th>\n",
       "      <td>Adrenal_c1</td>\n",
       "      <td>fold_0,fold_1,fold_2,fold_3,fold_4</td>\n",
       "      <td>AG_1</td>\n",
       "    </tr>\n",
       "    <tr>\n",
       "      <th>2</th>\n",
       "      <td>Adrenal_c2</td>\n",
       "      <td>fold_0,fold_1,fold_2,fold_3,fold_4</td>\n",
       "      <td>AG_2</td>\n",
       "    </tr>\n",
       "    <tr>\n",
       "      <th>3</th>\n",
       "      <td>Adrenal_c3</td>\n",
       "      <td>fold_0,fold_1,fold_2,fold_3,fold_4</td>\n",
       "      <td>AG_3</td>\n",
       "    </tr>\n",
       "    <tr>\n",
       "      <th>4</th>\n",
       "      <td>Brain_c0</td>\n",
       "      <td>fold_0,fold_1,fold_2,fold_3,fold_4</td>\n",
       "      <td>BR_0</td>\n",
       "    </tr>\n",
       "  </tbody>\n",
       "</table>\n",
       "</div>"
      ],
      "text/plain": [
       "      cluster                               folds cluster_ID\n",
       "0  Adrenal_c0  fold_0,fold_1,fold_2,fold_3,fold_4       AG_0\n",
       "1  Adrenal_c1  fold_0,fold_1,fold_2,fold_3,fold_4       AG_1\n",
       "2  Adrenal_c2  fold_0,fold_1,fold_2,fold_3,fold_4       AG_2\n",
       "3  Adrenal_c3  fold_0,fold_1,fold_2,fold_3,fold_4       AG_3\n",
       "4    Brain_c0  fold_0,fold_1,fold_2,fold_3,fold_4       BR_0"
      ]
     },
     "execution_count": 10,
     "metadata": {},
     "output_type": "execute_result"
    },
    {
     "data": {
      "text/plain": [
       "(189, 3)"
      ]
     },
     "execution_count": 10,
     "metadata": {},
     "output_type": "execute_result"
    }
   ],
   "source": [
    "cluster_meta = pd.read_csv(os.path.join(proj_out, \"03-chrombpnet/01-models/qc/chrombpnet_models_keep2.tsv\"), sep=\"\\t\", header=None)\n",
    "\n",
    "# set column names\n",
    "cluster_meta.columns = [\"cluster\", \"folds\", \"cluster_ID\"]\n",
    "\n",
    "cluster_meta.head()\n",
    "\n",
    "cluster_meta.shape"
   ]
  },
  {
   "cell_type": "markdown",
   "metadata": {},
   "source": [
    "# Inspect summed contrib scores for some examples"
   ]
  },
  {
   "cell_type": "code",
   "execution_count": 33,
   "metadata": {},
   "outputs": [
    {
     "data": {
      "text/plain": [
       "<KeysViewHDF5 ['neg_patterns', 'pos_patterns']>"
      ]
     },
     "execution_count": 33,
     "metadata": {},
     "output_type": "execute_result"
    }
   ],
   "source": [
    "cluster = \"Heart_c0\"\n",
    "path_modisco = proj_out + f\"03-chrombpnet/01-models/modisco/bias_Heart_c0_thresh0.4/{cluster}/counts_modisco_output.h5\"\n",
    "modisco = h5py.File(path_modisco, 'r')\n",
    "modisco.keys()"
   ]
  },
  {
   "cell_type": "code",
   "execution_count": 34,
   "metadata": {},
   "outputs": [
    {
     "data": {
      "text/plain": [
       "(14, 4)"
      ]
     },
     "execution_count": 34,
     "metadata": {},
     "output_type": "execute_result"
    },
    {
     "data": {
      "text/plain": [
       "np.float64(0.6811012164804402)"
      ]
     },
     "execution_count": 34,
     "metadata": {},
     "output_type": "execute_result"
    },
    {
     "data": {
      "text/plain": [
       "np.float64(0.04865008689146001)"
      ]
     },
     "execution_count": 34,
     "metadata": {},
     "output_type": "execute_result"
    },
    {
     "data": {
      "image/png": "[encoded data removed]",
      "text/plain": [
       "<Figure size 600x200 with 1 Axes>"
      ]
     },
     "metadata": {},
     "output_type": "display_data"
    }
   ],
   "source": [
    "cwm = modisco['pos_patterns']['pattern_0']['contrib_scores'][()]\n",
    "trimmed_cwm, _, _ = trim_cwm(cwm)\n",
    "trimmed_cwm.shape\n",
    "plot_motif(trimmed_cwm.T)\n",
    "trimmed_cwm.sum()\n",
    "trimmed_cwm.sum()/trimmed_cwm.shape[0]"
   ]
  },
  {
   "cell_type": "code",
   "execution_count": 35,
   "metadata": {},
   "outputs": [
    {
     "data": {
      "text/plain": [
       "(14, 4)"
      ]
     },
     "execution_count": 35,
     "metadata": {},
     "output_type": "execute_result"
    },
    {
     "data": {
      "text/plain": [
       "np.float64(0.33926301833399025)"
      ]
     },
     "execution_count": 35,
     "metadata": {},
     "output_type": "execute_result"
    },
    {
     "data": {
      "text/plain": [
       "np.float64(0.02423307273814216)"
      ]
     },
     "execution_count": 35,
     "metadata": {},
     "output_type": "execute_result"
    },
    {
     "data": {
      "image/png": "[encoded data removed]",
      "text/plain": [
       "<Figure size 600x200 with 1 Axes>"
      ]
     },
     "metadata": {},
     "output_type": "display_data"
    }
   ],
   "source": [
    "cwm = modisco['pos_patterns']['pattern_10']['contrib_scores'][()]\n",
    "trimmed_cwm, _, _ = trim_cwm(cwm)\n",
    "trimmed_cwm.shape\n",
    "plot_motif(trimmed_cwm.T)\n",
    "trimmed_cwm.sum()\n",
    "trimmed_cwm.sum()/trimmed_cwm.shape[0]"
   ]
  },
  {
   "cell_type": "code",
   "execution_count": 36,
   "metadata": {},
   "outputs": [
    {
     "data": {
      "text/plain": [
       "(13, 4)"
      ]
     },
     "execution_count": 36,
     "metadata": {},
     "output_type": "execute_result"
    },
    {
     "data": {
      "text/plain": [
       "np.float64(-0.275456271520475)"
      ]
     },
     "execution_count": 36,
     "metadata": {},
     "output_type": "execute_result"
    },
    {
     "data": {
      "text/plain": [
       "np.float64(-0.021188943963113462)"
      ]
     },
     "execution_count": 36,
     "metadata": {},
     "output_type": "execute_result"
    },
    {
     "data": {
      "image/png": "[encoded data removed]",
      "text/plain": [
       "<Figure size 600x200 with 1 Axes>"
      ]
     },
     "metadata": {},
     "output_type": "display_data"
    }
   ],
   "source": [
    "cwm = modisco['neg_patterns']['pattern_0']['contrib_scores'][()]\n",
    "trimmed_cwm, _, _ = trim_cwm(cwm)\n",
    "trimmed_cwm.shape\n",
    "plot_motif(trimmed_cwm.T)\n",
    "trimmed_cwm.sum()\n",
    "trimmed_cwm.sum()/trimmed_cwm.shape[0]"
   ]
  },
  {
   "cell_type": "markdown",
   "metadata": {},
   "source": [
    "# Compute across motifs and cell types"
   ]
  },
  {
   "cell_type": "code",
   "execution_count": 21,
   "metadata": {},
   "outputs": [
    {
     "name": "stdout",
     "output_type": "stream",
     "text": [
      "Adrenal_c0\n",
      "Adrenal_c1\n",
      "Adrenal_c2\n",
      "Adrenal_c3\n",
      "Brain_c0\n",
      "Brain_c1\n",
      "Brain_c10\n",
      "Brain_c11\n",
      "Brain_c12\n",
      "Brain_c13\n",
      "Brain_c14\n",
      "Brain_c15\n",
      "Brain_c16\n",
      "Brain_c17\n",
      "Brain_c2\n",
      "Brain_c3\n",
      "Brain_c4\n",
      "Brain_c5\n",
      "Brain_c6\n",
      "Brain_c7\n",
      "Brain_c8\n",
      "Brain_c9\n",
      "Eye_c0\n",
      "Eye_c1\n",
      "Eye_c10\n",
      "Eye_c11\n",
      "Eye_c12\n",
      "Eye_c13\n",
      "Eye_c14\n",
      "Eye_c15\n",
      "Eye_c16\n",
      "Eye_c17\n",
      "Eye_c18\n",
      "Eye_c2\n",
      "Eye_c3\n",
      "Eye_c4\n",
      "Eye_c5\n",
      "Eye_c6\n",
      "Eye_c7\n",
      "Eye_c8\n",
      "Eye_c9\n",
      "Heart_c0\n",
      "Heart_c1\n",
      "Heart_c10\n",
      "Heart_c11\n",
      "Heart_c12\n",
      "Heart_c13\n",
      "Heart_c14\n",
      "Heart_c15\n",
      "Heart_c2\n",
      "Heart_c3\n",
      "Heart_c4\n",
      "Heart_c5\n",
      "Heart_c6\n",
      "Heart_c7\n",
      "Heart_c8\n",
      "Heart_c9\n",
      "Liver_c0\n",
      "Liver_c1\n",
      "Liver_c10\n",
      "Liver_c11\n",
      "Liver_c12\n",
      "Liver_c13\n",
      "Liver_c2\n",
      "Liver_c3\n",
      "Liver_c4\n",
      "Liver_c5\n",
      "Liver_c6\n",
      "Liver_c7\n",
      "Liver_c8\n",
      "Liver_c9\n",
      "Lung_c0\n",
      "Lung_c1\n",
      "Lung_c10\n",
      "Lung_c11\n",
      "Lung_c12\n",
      "Lung_c13\n",
      "Lung_c14\n",
      "Lung_c15\n",
      "Lung_c16\n",
      "Lung_c17\n",
      "Lung_c2\n",
      "Lung_c3\n",
      "Lung_c4\n",
      "Lung_c5\n",
      "Lung_c6\n",
      "Lung_c7\n",
      "Lung_c8\n",
      "Lung_c9\n",
      "Muscle_c0\n",
      "Muscle_c1\n",
      "Muscle_c10\n",
      "Muscle_c11\n",
      "Muscle_c12\n",
      "Muscle_c13\n",
      "Muscle_c14\n",
      "Muscle_c15\n",
      "Muscle_c16\n",
      "Muscle_c17\n",
      "Muscle_c18\n",
      "Muscle_c19\n",
      "Muscle_c2\n",
      "Muscle_c20\n",
      "Muscle_c21\n",
      "Muscle_c3\n",
      "Muscle_c4\n",
      "Muscle_c5\n",
      "Muscle_c6\n",
      "Muscle_c7\n",
      "Muscle_c8\n",
      "Muscle_c9\n",
      "Skin_c0\n",
      "Skin_c1\n",
      "Skin_c10\n",
      "Skin_c11\n",
      "Skin_c12\n",
      "Skin_c13\n",
      "Skin_c14\n",
      "Skin_c15\n",
      "Skin_c16\n",
      "Skin_c17\n",
      "Skin_c18\n",
      "Skin_c2\n",
      "Skin_c3\n",
      "Skin_c4\n",
      "Skin_c5\n",
      "Skin_c6\n",
      "Skin_c7\n",
      "Skin_c8\n",
      "Skin_c9\n",
      "Spleen_c0\n",
      "Spleen_c1\n",
      "Spleen_c10\n",
      "Spleen_c11\n",
      "Spleen_c2\n",
      "Spleen_c3\n",
      "Spleen_c4\n",
      "Spleen_c5\n",
      "Spleen_c6\n",
      "Spleen_c7\n",
      "Spleen_c8\n",
      "Spleen_c9\n",
      "Stomach_c0\n",
      "Stomach_c1\n",
      "Stomach_c10\n",
      "Stomach_c11\n",
      "Stomach_c12\n",
      "Stomach_c13\n",
      "Stomach_c14\n",
      "Stomach_c15\n",
      "Stomach_c16\n",
      "Stomach_c17\n",
      "Stomach_c18\n",
      "Stomach_c19\n",
      "Stomach_c2\n",
      "Stomach_c20\n",
      "Stomach_c21\n",
      "Stomach_c3\n",
      "Stomach_c4\n",
      "Stomach_c5\n",
      "Stomach_c6\n",
      "Stomach_c7\n",
      "Stomach_c8\n",
      "Stomach_c9\n",
      "Thymus_c0\n",
      "Thymus_c1\n",
      "Thymus_c10\n",
      "Thymus_c11\n",
      "Thymus_c12\n",
      "Thymus_c13\n",
      "Thymus_c14\n",
      "Thymus_c15\n",
      "Thymus_c17\n",
      "Thymus_c2\n",
      "Thymus_c3\n",
      "Thymus_c4\n",
      "Thymus_c5\n",
      "Thymus_c6\n",
      "Thymus_c7\n",
      "Thymus_c8\n",
      "Thymus_c9\n",
      "Thyroid_c0\n",
      "Thyroid_c1\n",
      "Thyroid_c2\n",
      "Thyroid_c3\n",
      "Thyroid_c4\n",
      "Thyroid_c5\n",
      "Thyroid_c6\n",
      "Thyroid_c7\n"
     ]
    }
   ],
   "source": [
    "# collect a dict of dfs\n",
    "cwm_means = []\n",
    "\n",
    "for cluster in cluster_meta['cluster'].values:\n",
    "\t\n",
    "\tprint(cluster)\n",
    "\tpath_modisco = proj_out + f\"03-chrombpnet/01-models/modisco/bias_Heart_c0_thresh0.4/{cluster}/counts_modisco_output.h5\"\n",
    "\tmodisco = h5py.File(path_modisco, 'r')\n",
    "\n",
    "\t# collect a dict of dfs\n",
    "\tfor grp in modisco.keys():\n",
    "\n",
    "\t\tfor motif in modisco[grp].keys():\n",
    "\n",
    "\t\t\t# calculate sum of contribs and mean of contribs, across trimmed CWMs\n",
    "\t\t\tcwm = modisco[grp][motif]['contrib_scores'][()]\n",
    "\t\t\ttrimmed_cwm, _, _ = trim_cwm(modisco[grp][motif]['contrib_scores'][()])\n",
    "\t\t\tcwm_sum = trimmed_cwm.sum()\n",
    "\t\t\tcwm_mean = cwm_sum/trimmed_cwm.shape[0]\n",
    "\t\t\tabs_cwm_sum = np.abs(trimmed_cwm).sum()\n",
    "\t\t\tabs_cwm_mean = abs_cwm_sum/trimmed_cwm.shape[0]\n",
    "\n",
    "\t\t\tcwm_means.append([cluster, grp, motif, cwm_sum, abs_cwm_sum, cwm_mean, abs_cwm_mean])"
   ]
  },
  {
   "cell_type": "code",
   "execution_count": 22,
   "metadata": {},
   "outputs": [
    {
     "data": {
      "text/html": [
       "<div>\n",
       "<style scoped>\n",
       "    .dataframe tbody tr th:only-of-type {\n",
       "        vertical-align: middle;\n",
       "    }\n",
       "\n",
       "    .dataframe tbody tr th {\n",
       "        vertical-align: top;\n",
       "    }\n",
       "\n",
       "    .dataframe thead th {\n",
       "        text-align: right;\n",
       "    }\n",
       "</style>\n",
       "<table border=\"1\" class=\"dataframe\">\n",
       "  <thead>\n",
       "    <tr style=\"text-align: right;\">\n",
       "      <th></th>\n",
       "      <th>cluster</th>\n",
       "      <th>pattern_class</th>\n",
       "      <th>motif</th>\n",
       "      <th>cwm_sum</th>\n",
       "      <th>abs_cwm_sum</th>\n",
       "      <th>cwm_mean</th>\n",
       "      <th>abs_cwm_mean</th>\n",
       "      <th>component_pattern</th>\n",
       "    </tr>\n",
       "  </thead>\n",
       "  <tbody>\n",
       "    <tr>\n",
       "      <th>0</th>\n",
       "      <td>Adrenal_c0</td>\n",
       "      <td>pos_patterns</td>\n",
       "      <td>pattern_0</td>\n",
       "      <td>0.362828</td>\n",
       "      <td>0.366623</td>\n",
       "      <td>0.051833</td>\n",
       "      <td>0.052375</td>\n",
       "      <td>Adrenal_c0__pos_patterns.pattern_0</td>\n",
       "    </tr>\n",
       "    <tr>\n",
       "      <th>1</th>\n",
       "      <td>Adrenal_c0</td>\n",
       "      <td>pos_patterns</td>\n",
       "      <td>pattern_1</td>\n",
       "      <td>0.426939</td>\n",
       "      <td>0.429196</td>\n",
       "      <td>0.060991</td>\n",
       "      <td>0.061314</td>\n",
       "      <td>Adrenal_c0__pos_patterns.pattern_1</td>\n",
       "    </tr>\n",
       "    <tr>\n",
       "      <th>2</th>\n",
       "      <td>Adrenal_c0</td>\n",
       "      <td>pos_patterns</td>\n",
       "      <td>pattern_10</td>\n",
       "      <td>0.259504</td>\n",
       "      <td>0.260040</td>\n",
       "      <td>0.032438</td>\n",
       "      <td>0.032505</td>\n",
       "      <td>Adrenal_c0__pos_patterns.pattern_10</td>\n",
       "    </tr>\n",
       "    <tr>\n",
       "      <th>3</th>\n",
       "      <td>Adrenal_c0</td>\n",
       "      <td>pos_patterns</td>\n",
       "      <td>pattern_11</td>\n",
       "      <td>0.424052</td>\n",
       "      <td>0.440610</td>\n",
       "      <td>0.017669</td>\n",
       "      <td>0.018359</td>\n",
       "      <td>Adrenal_c0__pos_patterns.pattern_11</td>\n",
       "    </tr>\n",
       "    <tr>\n",
       "      <th>4</th>\n",
       "      <td>Adrenal_c0</td>\n",
       "      <td>pos_patterns</td>\n",
       "      <td>pattern_12</td>\n",
       "      <td>0.244701</td>\n",
       "      <td>0.245307</td>\n",
       "      <td>0.030588</td>\n",
       "      <td>0.030663</td>\n",
       "      <td>Adrenal_c0__pos_patterns.pattern_12</td>\n",
       "    </tr>\n",
       "  </tbody>\n",
       "</table>\n",
       "</div>"
      ],
      "text/plain": [
       "      cluster pattern_class       motif   cwm_sum  abs_cwm_sum  cwm_mean  \\\n",
       "0  Adrenal_c0  pos_patterns   pattern_0  0.362828     0.366623  0.051833   \n",
       "1  Adrenal_c0  pos_patterns   pattern_1  0.426939     0.429196  0.060991   \n",
       "2  Adrenal_c0  pos_patterns  pattern_10  0.259504     0.260040  0.032438   \n",
       "3  Adrenal_c0  pos_patterns  pattern_11  0.424052     0.440610  0.017669   \n",
       "4  Adrenal_c0  pos_patterns  pattern_12  0.244701     0.245307  0.030588   \n",
       "\n",
       "   abs_cwm_mean                    component_pattern  \n",
       "0      0.052375   Adrenal_c0__pos_patterns.pattern_0  \n",
       "1      0.061314   Adrenal_c0__pos_patterns.pattern_1  \n",
       "2      0.032505  Adrenal_c0__pos_patterns.pattern_10  \n",
       "3      0.018359  Adrenal_c0__pos_patterns.pattern_11  \n",
       "4      0.030663  Adrenal_c0__pos_patterns.pattern_12  "
      ]
     },
     "execution_count": 22,
     "metadata": {},
     "output_type": "execute_result"
    }
   ],
   "source": [
    "# convert list to df\n",
    "cwm_means_df = pd.DataFrame(cwm_means, columns=[\"cluster\", \"pattern_class\", \"motif\", \"cwm_sum\", \"abs_cwm_sum\", \"cwm_mean\", \"abs_cwm_mean\"])\n",
    "\n",
    "# concatenate two columns\n",
    "cwm_means_df['component_pattern'] = cwm_means_df['cluster'] + \"__\" + cwm_means_df['pattern_class'] + \".\" + cwm_means_df['motif']\n",
    "\n",
    "cwm_means_df.head()"
   ]
  },
  {
   "cell_type": "code",
   "execution_count": 23,
   "metadata": {},
   "outputs": [],
   "source": [
    "# write out\n",
    "cwm_means_df.to_csv(os.path.join(proj_out, \"03-chrombpnet/02-compendium/modisco_compiled/cwm_sums_df.tsv\"), sep=\"\\t\", index=False)"
   ]
  }
 ],
 "metadata": {
  "kernelspec": {
   "display_name": "tangermeme",
   "language": "python",
   "name": "python3"
  },
  "language_info": {
   "codemirror_mode": {
    "name": "ipython",
    "version": 3
   },
   "file_extension": ".py",
   "mimetype": "text/x-python",
   "name": "python",
   "nbconvert_exporter": "python",
   "pygments_lexer": "ipython3",
   "version": "3.12.4"
  }
 },
 "nbformat": 4,
 "nbformat_minor": 2
}
